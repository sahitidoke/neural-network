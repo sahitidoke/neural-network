{
  "nbformat": 4,
  "nbformat_minor": 0,
  "metadata": {
    "colab": {
      "provenance": [],
      "authorship_tag": "ABX9TyPfF7Gctv65TfKCssw7sImk",
      "include_colab_link": true
    },
    "kernelspec": {
      "name": "python3",
      "display_name": "Python 3"
    },
    "language_info": {
      "name": "python"
    }
  },
  "cells": [
    {
      "cell_type": "markdown",
      "metadata": {
        "id": "view-in-github",
        "colab_type": "text"
      },
      "source": [
        "<a href=\"https://colab.research.google.com/github/sahitidoke/neural-network/blob/main/anime_recommender.ipynb\" target=\"_parent\"><img src=\"https://colab.research.google.com/assets/colab-badge.svg\" alt=\"Open In Colab\"/></a>"
      ]
    },
    {
      "cell_type": "code",
      "execution_count": null,
      "metadata": {
        "id": "Lasb0_WQf8e8"
      },
      "outputs": [],
      "source": [
        "import numpy as np\n",
        "import pandas as pd\n",
        "import matplotlib.pyplot as plt\n",
        "import seaborn as sns\n",
        "from sklearn.cluster import KMeans\n",
        "from scipy.spatial import distance"
      ]
    },
    {
      "cell_type": "code",
      "source": [
        "data = pd.read_csv(\"anime.csv\")"
      ],
      "metadata": {
        "id": "CLBu8Kbkm89E"
      },
      "execution_count": null,
      "outputs": []
    },
    {
      "cell_type": "code",
      "source": [
        "data.info()"
      ],
      "metadata": {
        "colab": {
          "base_uri": "https://localhost:8080/"
        },
        "id": "3Gr1pTQGpa3_",
        "outputId": "1d5642e0-90c7-455b-e396-6d0838afb2fd"
      },
      "execution_count": null,
      "outputs": [
        {
          "output_type": "stream",
          "name": "stdout",
          "text": [
            "<class 'pandas.core.frame.DataFrame'>\n",
            "RangeIndex: 12294 entries, 0 to 12293\n",
            "Data columns (total 7 columns):\n",
            " #   Column    Non-Null Count  Dtype  \n",
            "---  ------    --------------  -----  \n",
            " 0   anime_id  12294 non-null  int64  \n",
            " 1   name      12294 non-null  object \n",
            " 2   genre     12232 non-null  object \n",
            " 3   type      12269 non-null  object \n",
            " 4   episodes  12294 non-null  object \n",
            " 5   rating    12064 non-null  float64\n",
            " 6   members   12294 non-null  int64  \n",
            "dtypes: float64(1), int64(2), object(4)\n",
            "memory usage: 672.5+ KB\n"
          ]
        }
      ]
    },
    {
      "cell_type": "code",
      "source": [
        "genre = data['genre'].values"
      ],
      "metadata": {
        "id": "rqjqpY9vnA2W"
      },
      "execution_count": null,
      "outputs": []
    },
    {
      "cell_type": "code",
      "source": [
        "rec=[]\n",
        "for i in genre:\n",
        "    i=str(i)\n",
        "    for x in i.split(','):\n",
        "        if x not in rec:\n",
        "            rec.append(x)"
      ],
      "metadata": {
        "id": "muFUc0U0nM2L"
      },
      "execution_count": null,
      "outputs": []
    },
    {
      "cell_type": "code",
      "source": [
        "dir={}\n",
        "t=[]\n",
        "for i in genre:\n",
        "    for j in rec:\n",
        "        dir[j]=0\n",
        "    i=str(i)\n",
        "    for p in i.split(','):\n",
        "        dir[p]+=1\n",
        "    t.append(list(dir.values()))"
      ],
      "metadata": {
        "id": "79FT_SMqng8v"
      },
      "execution_count": null,
      "outputs": []
    },
    {
      "cell_type": "code",
      "source": [
        "data_x =np.array(t)"
      ],
      "metadata": {
        "id": "OBPjMI8VoCYS"
      },
      "execution_count": null,
      "outputs": []
    },
    {
      "cell_type": "code",
      "source": [
        "s=input('Enter the anime you like and we can find similar ones you might enjoy  :')\n",
        "num=int(input('How many recommendations do you want? :'))\n",
        "name=data['name'].values\n",
        "for i in range(len(name)):\n",
        "    name[i]=name[i].lower()\n",
        "s=s.lower()\n",
        "h=-1\n",
        "for i in range(len(name)):\n",
        "    if s in name[i]:\n",
        "        h=i\n",
        "        break\n",
        "imp=[]\n",
        "if h==-1:\n",
        "    print('Sorry No match found :(')\n",
        "else:\n",
        "    for i in range(len(t)):\n",
        "        if i==h:\n",
        "            continue\n",
        "        else:\n",
        "            if len(imp)<num:\n",
        "                imp.append([distance.euclidean(t[i], t[h]),t[i],i])\n",
        "            else:\n",
        "                imp.sort()\n",
        "                if imp[num-1][0]>distance.euclidean(t[i],t[h]):\n",
        "                    del imp[num-1]\n",
        "                    imp.append([distance.euclidean(t[i],t[h]),t[i],i])\n",
        "    name=data['name'].values\n",
        "    print('The anime recommended for you are :')\n",
        "    count=0\n",
        "    for i in imp:\n",
        "        count+=1\n",
        "        print(count,'. ',name[i[2]])"
      ],
      "metadata": {
        "colab": {
          "base_uri": "https://localhost:8080/"
        },
        "id": "an828u6loJJA",
        "outputId": "53b812d6-4687-4814-cc0f-303059b89149"
      },
      "execution_count": null,
      "outputs": [
        {
          "output_type": "stream",
          "name": "stdout",
          "text": [
            "Enter the anime you like and we can find similar ones you might enjoy  :Seishun Buta Yarō\n",
            "How many recommendations do you want? :2\n",
            "Sorry No match found :(\n"
          ]
        }
      ]
    }
  ]
}